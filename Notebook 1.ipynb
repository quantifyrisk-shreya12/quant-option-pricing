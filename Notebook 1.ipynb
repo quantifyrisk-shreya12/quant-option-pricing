{
 "cells": [
  {
   "cell_type": "markdown",
   "metadata": {},
   "source": [
    "# Notebook 1\n",
    "\n",
    "The CRR model is a useful tool to approximate option prices in the Black-Scholes model. In the code snippet below, we define the variables $r$, $\\sigma$, $T$, $K$ and $S(0)$ for the model."
   ]
  },
  {
   "cell_type": "code",
   "execution_count": null,
   "metadata": {},
   "outputs": [],
   "source": []
  },
  {
   "cell_type": "markdown",
   "metadata": {},
   "source": [
    "## Initialize parameters and installing libraries"
   ]
  },
  {
   "cell_type": "code",
   "execution_count": null,
   "metadata": {},
   "outputs": [],
   "source": []
  },
  {
   "cell_type": "code",
   "execution_count": null,
   "metadata": {},
   "outputs": [],
   "source": []
  },
  {
   "cell_type": "code",
   "execution_count": 41,
   "metadata": {},
   "outputs": [],
   "source": [
    "import numpy as np\n",
    "import matplotlib.pyplot as plt\n",
    "from scipy.stats import norm\n",
    "\n",
    "r = 0.02\n",
    "sigma = 0.3\n",
    "T = 1\n",
    "K = 100\n",
    "S0 = 120"
   ]
  },
  {
   "cell_type": "code",
   "execution_count": null,
   "metadata": {},
   "outputs": [],
   "source": []
  },
  {
   "cell_type": "code",
   "execution_count": null,
   "metadata": {},
   "outputs": [],
   "source": []
  },
  {
   "cell_type": "markdown",
   "metadata": {},
   "source": [
    "<br>\n",
    "\n",
    "## Step 1: Valuing European options in the CRR model\n",
    "\n",
    "Our first goal is to implement the pseudocode algorithm given in Section 2.4 of the lecture notes. The algorithm is supposed to compute the price of a European call option with strike $K$ and time to maturity $T$ in the CRR model and volatility $\\sigma$. We break down the algorithm in multiple steps. The pseudocode algorithm starts with the following lines:\n",
    "\n",
    "**Input** $r, \\sigma, S(0), T, K, M$ <br>\n",
    "**Compute** $\\Delta t := T/M$ <br>\n",
    "&nbsp;&nbsp;&nbsp;&nbsp;&nbsp;&nbsp; Set $u, d, q$ according to $(2.4 - 2.7)$. <br>\n",
    "\n",
    "**Task 1.1**: Apart from $M$, the input values are already defined in the code snippet above. Set $M$ to 50 and compute $\\Delta t$ as well as $u$, $d$ and $q$. Store these numbers in variables `delta_t`, `u`, `d` and `q`.\n",
    "\n",
    "*Useful Python commands*: `np.exp`, `np.sqrt`"
   ]
  },
  {
   "cell_type": "code",
   "execution_count": 3,
   "metadata": {},
   "outputs": [],
   "source": [
    "# M = 50\n",
    "# delta_t = 1/50\n",
    "# beta= (1/2)*(np.exp((-r)*delta_t)+np.exp((r+sigma**2)*delta_t))\n",
    "# beta"
   ]
  },
  {
   "cell_type": "code",
   "execution_count": 4,
   "metadata": {},
   "outputs": [],
   "source": [
    "# u = beta+np.sqrt((beta**2)-1)\n",
    "# u"
   ]
  },
  {
   "cell_type": "code",
   "execution_count": 5,
   "metadata": {},
   "outputs": [],
   "source": [
    "# d = beta-np.sqrt((beta**2)-1)\n",
    "# d"
   ]
  },
  {
   "cell_type": "code",
   "execution_count": 6,
   "metadata": {},
   "outputs": [],
   "source": [
    "# q = (np.exp(r*delta_t)-d)/(u-d)\n",
    "# q"
   ]
  },
  {
   "cell_type": "code",
   "execution_count": null,
   "metadata": {},
   "outputs": [],
   "source": []
  },
  {
   "cell_type": "code",
   "execution_count": null,
   "metadata": {},
   "outputs": [],
   "source": []
  },
  {
   "cell_type": "markdown",
   "metadata": {},
   "source": [
    "## Option Valuation Using Binomial Tree/CRR Model "
   ]
  },
  {
   "cell_type": "code",
   "execution_count": null,
   "metadata": {},
   "outputs": [],
   "source": []
  },
  {
   "cell_type": "code",
   "execution_count": null,
   "metadata": {},
   "outputs": [],
   "source": []
  },
  {
   "cell_type": "markdown",
   "metadata": {},
   "source": [
    "## Calculating Parameters "
   ]
  },
  {
   "cell_type": "code",
   "execution_count": null,
   "metadata": {},
   "outputs": [],
   "source": []
  },
  {
   "cell_type": "code",
   "execution_count": null,
   "metadata": {},
   "outputs": [],
   "source": []
  },
  {
   "cell_type": "code",
   "execution_count": 7,
   "metadata": {},
   "outputs": [],
   "source": [
    "M = 50\n",
    "delta_t = 1/M\n",
    "beta= (1/2)*(np.exp((-r)*delta_t)+np.exp((r+sigma**2)*delta_t))\n",
    "u = beta+np.sqrt((beta**2)-1)\n",
    "d = beta-np.sqrt((beta**2)-1)\n",
    "q = (np.exp(r*delta_t)-d)/(u-d)"
   ]
  },
  {
   "cell_type": "markdown",
   "metadata": {},
   "source": [
    "The algorithm continues as follows:\n",
    "\n",
    "&nbsp;&nbsp;&nbsp;&nbsp;&nbsp;&nbsp; Set $S_{00} := S(0)$. <br>\n",
    "&nbsp;&nbsp;&nbsp;&nbsp;&nbsp;&nbsp; $S_{ji} := S_{00} u^jd^{i-j}$ for $i = 1, \\dots, M$ and $j = 0, \\dots, i$.\n",
    "\n",
    "The goal is to compute the stock price matrix $S \\in \\mathbb{R}^{(M + 1) \\times (M + 1)}$ in the CRR model with initial price $S(0) > 0$.\n",
    "\n",
    "**Task 1.2**: Initialize `S` as an array containing zeros. Use two nested for-loops to fill `S` with the correct values.\n",
    "\n",
    "*Useful Python commands*: `np.zeros`"
   ]
  },
  {
   "cell_type": "code",
   "execution_count": 8,
   "metadata": {},
   "outputs": [],
   "source": [
    "#help(np.zeros)"
   ]
  },
  {
   "cell_type": "code",
   "execution_count": null,
   "metadata": {},
   "outputs": [],
   "source": []
  },
  {
   "cell_type": "markdown",
   "metadata": {},
   "source": [
    "## Initialize the dimenssion and array S for stocks"
   ]
  },
  {
   "cell_type": "code",
   "execution_count": null,
   "metadata": {},
   "outputs": [],
   "source": []
  },
  {
   "cell_type": "code",
   "execution_count": null,
   "metadata": {},
   "outputs": [],
   "source": []
  },
  {
   "cell_type": "code",
   "execution_count": 9,
   "metadata": {},
   "outputs": [],
   "source": [
    "#dim=(51,51)\n",
    "dim=((M+1),(M+1))\n",
    "S = np.zeros(dim)\n",
    "S[0][0]=S0"
   ]
  },
  {
   "cell_type": "code",
   "execution_count": 10,
   "metadata": {},
   "outputs": [
    {
     "data": {
      "text/plain": [
       "array([[120.,   0.,   0., ...,   0.,   0.,   0.],\n",
       "       [  0.,   0.,   0., ...,   0.,   0.,   0.],\n",
       "       [  0.,   0.,   0., ...,   0.,   0.,   0.],\n",
       "       ...,\n",
       "       [  0.,   0.,   0., ...,   0.,   0.,   0.],\n",
       "       [  0.,   0.,   0., ...,   0.,   0.,   0.],\n",
       "       [  0.,   0.,   0., ...,   0.,   0.,   0.]], shape=(51, 51))"
      ]
     },
     "execution_count": 10,
     "metadata": {},
     "output_type": "execute_result"
    }
   ],
   "source": [
    "S"
   ]
  },
  {
   "cell_type": "code",
   "execution_count": 11,
   "metadata": {},
   "outputs": [],
   "source": [
    "for i in range(1,(M+1)):\n",
    "    for j in range(0,(i+1)):\n",
    "        S[j][i]=S0*(u**j)*(d**(i-j))"
   ]
  },
  {
   "cell_type": "code",
   "execution_count": 12,
   "metadata": {},
   "outputs": [
    {
     "data": {
      "text/plain": [
       "array([[ 120.        ,  115.01229671,  110.23190328, ...,   15.63891743,\n",
       "          14.98889843,   14.36589695],\n",
       "       [   0.        ,  125.2040035 ,  120.        , ...,   17.02474543,\n",
       "          16.31712561,   15.63891743],\n",
       "       [   0.        ,    0.        ,  130.63368745, ...,   18.53337728,\n",
       "          17.76305239,   17.02474543],\n",
       "       ...,\n",
       "       [   0.        ,    0.        ,    0.        , ...,  920.77984686,\n",
       "         882.50837458,  845.8276252 ],\n",
       "       [   0.        ,    0.        ,    0.        , ...,    0.        ,\n",
       "         960.71102645,  920.77984686],\n",
       "       [   0.        ,    0.        ,    0.        , ...,    0.        ,\n",
       "           0.        , 1002.37388935]], shape=(51, 51))"
      ]
     },
     "execution_count": 12,
     "metadata": {},
     "output_type": "execute_result"
    }
   ],
   "source": [
    "S"
   ]
  },
  {
   "cell_type": "markdown",
   "metadata": {},
   "source": [
    "The algorithm finishes with\n",
    "\n",
    "&nbsp;&nbsp;&nbsp;&nbsp;&nbsp;&nbsp; $V_{jM}$ according to $(2.16)$. <br>\n",
    "&nbsp;&nbsp;&nbsp;&nbsp;&nbsp;&nbsp; **for** $i = 1, \\dots, M$ and $j = 0, \\dots, i$: <br>\n",
    "&nbsp;&nbsp;&nbsp;&nbsp;&nbsp;&nbsp;&nbsp;&nbsp;&nbsp;&nbsp;&nbsp;&nbsp; $V_{ji}$ according to (2.14). <br>\n",
    "**Output** $V_{00}$\n",
    "\n",
    "**Task 1.3**: Initialize the option price matrix $V \\in \\mathbb{R}^{(M + 1) \\times (M + 1)}$ as an array `V`. Use the terminal condition of the call option to fill the final column of `V` and then use a for-loop to fill the array backwards in time.\n",
    "\n",
    "*Useful Python commands*: `np.zeros`, `np.maximum`, `np.exp`"
   ]
  },
  {
   "cell_type": "code",
   "execution_count": 13,
   "metadata": {},
   "outputs": [],
   "source": [
    "# S[50][50]\n",
    "# V = np.zeros(dim)\n",
    "# V[50][50]=np.max(S[50][50]-K)\n",
    "# V[50][50]"
   ]
  },
  {
   "cell_type": "markdown",
   "metadata": {},
   "source": [
    "## Important to traverse the array from last to first "
   ]
  },
  {
   "cell_type": "code",
   "execution_count": 14,
   "metadata": {},
   "outputs": [
    {
     "name": "stdout",
     "output_type": "stream",
     "text": [
      "50\n",
      "40\n",
      "30\n",
      "20\n",
      "10\n"
     ]
    }
   ],
   "source": [
    "arr = [10, 20, 30, 40, 50]\n",
    "\n",
    "for i in range(len(arr) - 1, -1, -1):\n",
    "    print(arr[i])\n"
   ]
  },
  {
   "cell_type": "code",
   "execution_count": null,
   "metadata": {},
   "outputs": [],
   "source": []
  },
  {
   "cell_type": "code",
   "execution_count": null,
   "metadata": {},
   "outputs": [],
   "source": []
  },
  {
   "cell_type": "markdown",
   "metadata": {},
   "source": [
    "## Initialize the option pricing vector and fill the terminal node, internal node by traversing from back to front nodes"
   ]
  },
  {
   "cell_type": "code",
   "execution_count": null,
   "metadata": {},
   "outputs": [],
   "source": []
  },
  {
   "cell_type": "code",
   "execution_count": null,
   "metadata": {},
   "outputs": [],
   "source": []
  },
  {
   "cell_type": "code",
   "execution_count": null,
   "metadata": {},
   "outputs": [],
   "source": []
  },
  {
   "cell_type": "code",
   "execution_count": 15,
   "metadata": {},
   "outputs": [
    {
     "data": {
      "text/plain": [
       "np.float64(0.0)"
      ]
     },
     "execution_count": 15,
     "metadata": {},
     "output_type": "execute_result"
    }
   ],
   "source": [
    "V = np.zeros(dim)\n",
    "V[49][49]"
   ]
  },
  {
   "cell_type": "code",
   "execution_count": 16,
   "metadata": {},
   "outputs": [],
   "source": [
    "V[:,M] = np.maximum((S[:,M]-K),0)"
   ]
  },
  {
   "cell_type": "code",
   "execution_count": 17,
   "metadata": {},
   "outputs": [
    {
     "data": {
      "text/plain": [
       "np.float64(902.373889350261)"
      ]
     },
     "execution_count": 17,
     "metadata": {},
     "output_type": "execute_result"
    }
   ],
   "source": [
    "V[50][50]"
   ]
  },
  {
   "cell_type": "code",
   "execution_count": 18,
   "metadata": {},
   "outputs": [],
   "source": [
    "V = np.zeros(dim)\n",
    "# for European call option\n",
    "V[:,M] = np.maximum((S[:,M]-K),0) # check the difference between np.max and np.maximum documentation\n",
    "for i in range((M-1),-1,-1):\n",
    "    for j in range(0,(i+1)):\n",
    "        V[j][i]= (np.exp(-r*delta_t))*(q*(V[j+1][i+1])+(1-q)*(V[j][i+1]))"
   ]
  },
  {
   "cell_type": "code",
   "execution_count": 19,
   "metadata": {},
   "outputs": [
    {
     "data": {
      "text/plain": [
       "array([[ 26.80219164,  22.80720448,  19.17893514, ...,   0.        ,\n",
       "          0.        ,   0.        ],\n",
       "       [  0.        ,  30.91430362,  26.54060456, ...,   0.        ,\n",
       "          0.        ,   0.        ],\n",
       "       [  0.        ,   0.        ,  35.41750291, ...,   0.        ,\n",
       "          0.        ,   0.        ],\n",
       "       ...,\n",
       "       [  0.        ,   0.        ,   0.        , ..., 820.85981487,\n",
       "        782.54836658, 745.8276252 ],\n",
       "       [  0.        ,   0.        ,   0.        , ...,   0.        ,\n",
       "        860.75101845, 820.77984686],\n",
       "       [  0.        ,   0.        ,   0.        , ...,   0.        ,\n",
       "          0.        , 902.37388935]], shape=(51, 51))"
      ]
     },
     "execution_count": 19,
     "metadata": {},
     "output_type": "execute_result"
    }
   ],
   "source": [
    "V"
   ]
  },
  {
   "cell_type": "markdown",
   "metadata": {},
   "source": [
    "**Task 1.4**: Write a function `european_CRR(g, S0, T, r, sigma, M)` that performs the whole algorithm from Tasks 1.1 - 1.3 and returns the option price $V(0)$ at time 0. However, instead of pricing a European call option, the function should take an arbitrary payoff function `g` as an argument that computes the terminal payoff $g(S(T))$ as a function of $S(T)$."
   ]
  },
  {
   "cell_type": "markdown",
   "metadata": {},
   "source": [
    "#### Task 1.1 to 1.3"
   ]
  },
  {
   "cell_type": "markdown",
   "metadata": {},
   "source": [
    "## Previous Code"
   ]
  },
  {
   "cell_type": "code",
   "execution_count": 20,
   "metadata": {},
   "outputs": [],
   "source": [
    "M = 50\n",
    "delta_t = T/M\n",
    "beta= (1/2)*(np.exp((-r)*delta_t)+np.exp((r+sigma**2)*delta_t))\n",
    "u = beta+np.sqrt((beta**2)-1)\n",
    "d = beta-np.sqrt((beta**2)-1)\n",
    "q = (np.exp(r*delta_t)-d)/(u-d)\n",
    "dim=((M+1),(M+1))\n",
    "S = np.zeros(dim)\n",
    "S[0][0]=S0\n",
    "for i in range(1,(M+1)):\n",
    "    for j in range(0,(i+1)):\n",
    "        S[j][i]=S0*(u**j)*(d**(i-j))\n",
    "\n",
    "V = np.zeros(dim)\n",
    "#for the terminal node european put and call optionand american put and call option price will be same  \n",
    "V[:,M] = np.maximum((S[:,M]-K),0) # check the difference between np.max and np.maximum documentation\n",
    "for i in range((M-1),-1,-1):\n",
    "    for j in range(0,(i+1)):\n",
    "        V[j][i]= (np.exp(-r*delta_t))*(q*(V[j+1][i+1])+(1-q)*(V[j][i+1]))"
   ]
  },
  {
   "cell_type": "code",
   "execution_count": null,
   "metadata": {},
   "outputs": [],
   "source": []
  },
  {
   "cell_type": "code",
   "execution_count": null,
   "metadata": {},
   "outputs": [],
   "source": []
  },
  {
   "cell_type": "markdown",
   "metadata": {},
   "source": [
    "### For Terminal Payoff"
   ]
  },
  {
   "cell_type": "code",
   "execution_count": 21,
   "metadata": {},
   "outputs": [],
   "source": [
    "def g_call(S):\n",
    "    #dim=((M+1),(M+1))\n",
    "    #S = np.zeros(dim)\n",
    "    K=100\n",
    "    return np.maximum((S-K),0)\n",
    "\n",
    "def g_put(S):\n",
    "    K=100\n",
    "    return np.maximum(K-S,0)"
   ]
  },
  {
   "cell_type": "code",
   "execution_count": null,
   "metadata": {},
   "outputs": [],
   "source": []
  },
  {
   "cell_type": "code",
   "execution_count": null,
   "metadata": {},
   "outputs": [],
   "source": []
  },
  {
   "cell_type": "code",
   "execution_count": null,
   "metadata": {},
   "outputs": [],
   "source": []
  },
  {
   "cell_type": "code",
   "execution_count": null,
   "metadata": {},
   "outputs": [],
   "source": []
  },
  {
   "cell_type": "markdown",
   "metadata": {},
   "source": [
    "## European CRR function is created to build CRR model"
   ]
  },
  {
   "cell_type": "code",
   "execution_count": null,
   "metadata": {},
   "outputs": [],
   "source": []
  },
  {
   "cell_type": "code",
   "execution_count": null,
   "metadata": {},
   "outputs": [],
   "source": []
  },
  {
   "cell_type": "code",
   "execution_count": 22,
   "metadata": {},
   "outputs": [],
   "source": [
    "def european_CRR(g, S0, T, r, sigma, M):\n",
    "    \n",
    "    delta_t = T/M\n",
    "    beta= (1/2)*(np.exp((-r)*delta_t)+np.exp((r+sigma**2)*delta_t))\n",
    "    u = beta+np.sqrt((beta**2)-1)\n",
    "    d = beta-np.sqrt((beta**2)-1)\n",
    "    q = (np.exp(r*delta_t)-d)/(u-d)\n",
    "    dim=((M+1),(M+1))\n",
    "    \n",
    "    S = np.zeros(dim)\n",
    "    S[0][0]=S0\n",
    "    for i in range(1,(M+1)):\n",
    "        for j in range(0,(i+1)):\n",
    "            S[j][i]=S0*(u**j)*(d**(i-j))\n",
    "    \n",
    "    V = np.zeros(dim)\n",
    "    #for the terminal node european put and call optionand american put and call option price will be same  \n",
    "    #V[:,M] = np.maximum((S[:,M]-K),0) # check the difference between np.max and np.maximum documentation\n",
    "    V[:,M] = g(S[:,M])\n",
    "    for i in range((M-1),-1,-1):\n",
    "        for j in range(0,(i+1)):\n",
    "            V[j][i]= (np.exp(-r*delta_t))*(q*(V[j+1][i+1])+(1-q)*(V[j][i+1]))\n",
    "            \n",
    "    return V[0][0]"
   ]
  },
  {
   "cell_type": "code",
   "execution_count": null,
   "metadata": {},
   "outputs": [],
   "source": []
  },
  {
   "cell_type": "code",
   "execution_count": null,
   "metadata": {},
   "outputs": [],
   "source": []
  },
  {
   "cell_type": "code",
   "execution_count": null,
   "metadata": {},
   "outputs": [],
   "source": []
  },
  {
   "cell_type": "code",
   "execution_count": null,
   "metadata": {},
   "outputs": [],
   "source": []
  },
  {
   "cell_type": "markdown",
   "metadata": {},
   "source": [
    "### American CRR Function "
   ]
  },
  {
   "cell_type": "code",
   "execution_count": 24,
   "metadata": {},
   "outputs": [],
   "source": [
    "def american_CRR_call(g, S0, T, r, sigma, M):\n",
    "    \n",
    "    delta_t = T/M\n",
    "    beta= (1/2)*(np.exp((-r)*delta_t)+np.exp((r+sigma**2)*delta_t))\n",
    "    u = beta+np.sqrt((beta**2)-1)\n",
    "    d = beta-np.sqrt((beta**2)-1)\n",
    "    q = (np.exp(r*delta_t)-d)/(u-d)\n",
    "    dim=((M+1),(M+1))\n",
    "    \n",
    "    S = np.zeros(dim)\n",
    "    S[0][0]=S0\n",
    "    for i in range(1,(M+1)):\n",
    "        for j in range(0,(i+1)):\n",
    "            S[j][i]=S0*(u**j)*(d**(i-j))\n",
    "    \n",
    "    V = np.zeros(dim)\n",
    "    #for the terminal node european put and call optionand american put and call option price will be same  \n",
    "    #V[:,M] = np.maximum((S[:,M]-K),0) # check the difference between np.max and np.maximum documentation\n",
    "    V[:,M] = g(S[:,M])\n",
    "    for i in range((M-1),-1,-1):\n",
    "        for j in range(0,(i+1)):\n",
    "            V[j][i]= max( np.maximam((S[j][i]-k),0), (np.exp(-r*delta_t))*(q*(V[j+1][i+1])+(1-q)*(V[j][i+1]) ) )\n",
    "            \n",
    "    return V[0][0]"
   ]
  },
  {
   "cell_type": "code",
   "execution_count": null,
   "metadata": {},
   "outputs": [],
   "source": []
  },
  {
   "cell_type": "code",
   "execution_count": null,
   "metadata": {},
   "outputs": [],
   "source": []
  },
  {
   "cell_type": "code",
   "execution_count": null,
   "metadata": {},
   "outputs": [],
   "source": []
  },
  {
   "cell_type": "code",
   "execution_count": null,
   "metadata": {},
   "outputs": [],
   "source": []
  },
  {
   "cell_type": "markdown",
   "metadata": {},
   "source": [
    "## visualization Of Stock and Option price movement"
   ]
  },
  {
   "cell_type": "code",
   "execution_count": null,
   "metadata": {},
   "outputs": [],
   "source": []
  },
  {
   "cell_type": "code",
   "execution_count": null,
   "metadata": {},
   "outputs": [],
   "source": []
  },
  {
   "cell_type": "code",
   "execution_count": null,
   "metadata": {},
   "outputs": [],
   "source": []
  },
  {
   "cell_type": "markdown",
   "metadata": {},
   "source": [
    "## Stock"
   ]
  },
  {
   "cell_type": "code",
   "execution_count": null,
   "metadata": {},
   "outputs": [],
   "source": []
  },
  {
   "cell_type": "code",
   "execution_count": null,
   "metadata": {},
   "outputs": [],
   "source": []
  },
  {
   "cell_type": "markdown",
   "metadata": {},
   "source": [
    "<br><br>\n",
    "\n",
    "## Step 2: Visualizing the content of the stock price and option price matrix.\n",
    "\n",
    "Now we want to visualize the stock price matrix `S` and the option price matrix `V` in the CRR model a little further. The following code snippet plots all the possible stock prices in the matrix `S` in a common plot. \n",
    "\n",
    "**Task 2.1**: Execute the code below and interpret this plot using a comment. Why does it make sense that the discretization of the grid of stock prices becomes much finer for small stock prices and much coarser for very large stock prices? What are possible disadvantages of this fact?"
   ]
  },
  {
   "cell_type": "code",
   "execution_count": 25,
   "metadata": {},
   "outputs": [
    {
     "data": {
      "text/plain": [
       "array([[ 120.        ,  115.01229671,  110.23190328, ...,   15.63891743,\n",
       "          14.98889843,   14.36589695],\n",
       "       [   0.        ,  125.2040035 ,  120.        , ...,   17.02474543,\n",
       "          16.31712561,   15.63891743],\n",
       "       [   0.        ,    0.        ,  130.63368745, ...,   18.53337728,\n",
       "          17.76305239,   17.02474543],\n",
       "       ...,\n",
       "       [   0.        ,    0.        ,    0.        , ...,  920.77984686,\n",
       "         882.50837458,  845.8276252 ],\n",
       "       [   0.        ,    0.        ,    0.        , ...,    0.        ,\n",
       "         960.71102645,  920.77984686],\n",
       "       [   0.        ,    0.        ,    0.        , ...,    0.        ,\n",
       "           0.        , 1002.37388935]], shape=(51, 51))"
      ]
     },
     "execution_count": 25,
     "metadata": {},
     "output_type": "execute_result"
    }
   ],
   "source": [
    "S"
   ]
  },
  {
   "cell_type": "code",
   "execution_count": 26,
   "metadata": {},
   "outputs": [
    {
     "data": {
      "image/png": "[encoded data removed]",
      "text/plain": [
       "<Figure size 640x480 with 1 Axes>"
      ]
     },
     "metadata": {},
     "output_type": "display_data"
    }
   ],
   "source": [
    "for i in range(M):\n",
    "    plt.plot(np.repeat(i * delta_t, i + 1), S[:i + 1, i], '+', color='black', markersize=4)\n",
    "plt.grid(alpha=0.3)\n",
    "plt.xlabel('$t$')\n",
    "plt.ylabel('$S(t)$')\n",
    "plt.show()\n",
    "\n",
    "# Interpretation: ..."
   ]
  },
  {
   "cell_type": "markdown",
   "metadata": {},
   "source": [
    "## Interpretation : -----need to understand and prepare your own note\n",
    "\n",
    "### 1. Why does it make sense that the discretization becomes finer for small stock prices and coarser for large ones?\n",
    "\n",
    "This makes sense due to relative price changes:\n",
    "\n",
    "Stock prices are typically modeled using geometric Brownian motion, where price changes are proportional to the current price (lognormal behavior).\n",
    "\n",
    "A small change in percentage terms for a small price translates to a small absolute change, while the same percentage change for a large price gives a larger absolute change.\n",
    "\n",
    "In a log scale, stock price changes are more uniform. But in linear scale, this leads to the grid being denser at low prices and spread out at high prices.\n",
    "\n",
    "So, it's natural that:\n",
    "\n",
    "The grid is finer (more points) where price is small, because each move is small.\n",
    "\n",
    "The grid is coarser (fewer points) at high prices, because changes are larger in absolute terms.\n",
    "\n",
    "\n",
    "### 2. What are possible disadvantages of this fact?\n",
    "This non-uniform discretization can lead to numerical challenges:\n",
    "\n",
    "🔹 Accuracy issues for high stock prices: Coarser grid means less precision in representing stock behavior at higher price levels.\n",
    "\n",
    "🔹 Interpolation errors: If you need values at non-grid points (like in pricing American options), the irregular spacing can make interpolation less accurate.\n",
    "\n",
    "🔹 Difficulty in calibration: If you're trying to match market data or build hedging strategies, sparse points at high prices could limit model flexibility.\n",
    "\n",
    "🔹 Bias in expectations: Coarser representation might underrepresent rare but important paths, like those where stock prices surge dramatically.\n",
    "\n"
   ]
  },
  {
   "cell_type": "code",
   "execution_count": null,
   "metadata": {},
   "outputs": [],
   "source": []
  },
  {
   "cell_type": "code",
   "execution_count": null,
   "metadata": {},
   "outputs": [],
   "source": []
  },
  {
   "cell_type": "markdown",
   "metadata": {},
   "source": [
    "## Option Price"
   ]
  },
  {
   "cell_type": "code",
   "execution_count": null,
   "metadata": {},
   "outputs": [],
   "source": []
  },
  {
   "cell_type": "code",
   "execution_count": null,
   "metadata": {},
   "outputs": [],
   "source": []
  },
  {
   "cell_type": "code",
   "execution_count": null,
   "metadata": {},
   "outputs": [],
   "source": []
  },
  {
   "cell_type": "markdown",
   "metadata": {},
   "source": [
    "**Task 2.2**: Copy the above code snippet under Task 2.1 and adapt the code so that it visualizes the option price matrix `V` instead of `S`. What do you observe compared to the output of Task 2.1? Interpret your plot using a comment."
   ]
  },
  {
   "cell_type": "code",
   "execution_count": 27,
   "metadata": {},
   "outputs": [
    {
     "data": {
      "text/plain": [
       "array([[ 26.80219164,  22.80720448,  19.17893514, ...,   0.        ,\n",
       "          0.        ,   0.        ],\n",
       "       [  0.        ,  30.91430362,  26.54060456, ...,   0.        ,\n",
       "          0.        ,   0.        ],\n",
       "       [  0.        ,   0.        ,  35.41750291, ...,   0.        ,\n",
       "          0.        ,   0.        ],\n",
       "       ...,\n",
       "       [  0.        ,   0.        ,   0.        , ..., 820.85981487,\n",
       "        782.54836658, 745.8276252 ],\n",
       "       [  0.        ,   0.        ,   0.        , ...,   0.        ,\n",
       "        860.75101845, 820.77984686],\n",
       "       [  0.        ,   0.        ,   0.        , ...,   0.        ,\n",
       "          0.        , 902.37388935]], shape=(51, 51))"
      ]
     },
     "execution_count": 27,
     "metadata": {},
     "output_type": "execute_result"
    }
   ],
   "source": [
    "V"
   ]
  },
  {
   "cell_type": "code",
   "execution_count": 28,
   "metadata": {
    "scrolled": true
   },
   "outputs": [
    {
     "data": {
      "image/png": "[encoded data removed]",
      "text/plain": [
       "<Figure size 640x480 with 1 Axes>"
      ]
     },
     "metadata": {},
     "output_type": "display_data"
    }
   ],
   "source": [
    "for i in range(M):\n",
    "    plt.plot(np.repeat(i * delta_t, i + 1), V[:i + 1, i], '+', color='black', markersize=4)\n",
    "plt.grid(alpha=0.3)\n",
    "plt.xlabel('$t$')\n",
    "plt.ylabel('$V(t)$')\n",
    "plt.show()\n",
    "\n",
    "# Interpretation: ..."
   ]
  },
  {
   "cell_type": "markdown",
   "metadata": {},
   "source": [
    "## Interpretation:\n",
    "\n",
    "For the small stock prices the probability of getting good value of the option which contain those underlyings of quite low stock prices is also quite low.  Similarly those stock's prices are quite higher, the price of the options of those corresponding stock prices are also quite high. That's why the shape of the stock price and option price diagram is more or less same. It can clearly be seen that the prices of call options and of the underlying stock are highly correlated in the CRR model. Compared to the stock price matrix `S`, the binomial tree for `V` becomes even more compressed for low stock prices at the bottom since for these low stock prices it becomes increasingly unlikely that the option finishes in the money."
   ]
  },
  {
   "cell_type": "code",
   "execution_count": null,
   "metadata": {},
   "outputs": [],
   "source": []
  },
  {
   "cell_type": "code",
   "execution_count": null,
   "metadata": {},
   "outputs": [],
   "source": []
  },
  {
   "cell_type": "markdown",
   "metadata": {},
   "source": [
    "## Visualization Of Simulated Stock Price and Option Price Path"
   ]
  },
  {
   "cell_type": "code",
   "execution_count": null,
   "metadata": {},
   "outputs": [],
   "source": []
  },
  {
   "cell_type": "code",
   "execution_count": null,
   "metadata": {},
   "outputs": [],
   "source": []
  },
  {
   "cell_type": "code",
   "execution_count": null,
   "metadata": {},
   "outputs": [],
   "source": []
  },
  {
   "cell_type": "code",
   "execution_count": null,
   "metadata": {},
   "outputs": [],
   "source": []
  },
  {
   "cell_type": "markdown",
   "metadata": {},
   "source": [
    "We now want to visualize one specific realization of a stock price path in the CRR model as well as the corresponding realisation of the option price path. Suppose that the empirical probability of an upwards movement in the CRR model is given by $p = 0.5$.\n",
    "\n",
    "**Task 2.3**: Fill the blank spaces (marked by `...`) in the code snippet below: First, set the numpy random seed to 24. Then, use the function `np.random.binomial` to draw $M$ samples of a Bernoulli distribution with parameter $p = 0.5$ and store these draws in an array `coin_flips`. The code snippet then continues to visualize the simulated stock price path and the simulated option price path that correspond to your randomly drawn coin flips for the up and down movements.\n",
    "\n",
    "*Useful Python commands*: `np.random.seed`"
   ]
  },
  {
   "cell_type": "code",
   "execution_count": 29,
   "metadata": {},
   "outputs": [],
   "source": [
    "#help(np.random.binomial)"
   ]
  },
  {
   "cell_type": "code",
   "execution_count": 30,
   "metadata": {},
   "outputs": [
    {
     "data": {
      "text/plain": [
       "array([[ 120.        ,  115.01229671,  110.23190328, ...,   15.63891743,\n",
       "          14.98889843,   14.36589695],\n",
       "       [   0.        ,  125.2040035 ,  120.        , ...,   17.02474543,\n",
       "          16.31712561,   15.63891743],\n",
       "       [   0.        ,    0.        ,  130.63368745, ...,   18.53337728,\n",
       "          17.76305239,   17.02474543],\n",
       "       ...,\n",
       "       [   0.        ,    0.        ,    0.        , ...,  920.77984686,\n",
       "         882.50837458,  845.8276252 ],\n",
       "       [   0.        ,    0.        ,    0.        , ...,    0.        ,\n",
       "         960.71102645,  920.77984686],\n",
       "       [   0.        ,    0.        ,    0.        , ...,    0.        ,\n",
       "           0.        , 1002.37388935]], shape=(51, 51))"
      ]
     },
     "execution_count": 30,
     "metadata": {},
     "output_type": "execute_result"
    }
   ],
   "source": [
    "S"
   ]
  },
  {
   "cell_type": "code",
   "execution_count": 31,
   "metadata": {},
   "outputs": [
    {
     "data": {
      "text/plain": [
       "array([[ 26.80219164,  22.80720448,  19.17893514, ...,   0.        ,\n",
       "          0.        ,   0.        ],\n",
       "       [  0.        ,  30.91430362,  26.54060456, ...,   0.        ,\n",
       "          0.        ,   0.        ],\n",
       "       [  0.        ,   0.        ,  35.41750291, ...,   0.        ,\n",
       "          0.        ,   0.        ],\n",
       "       ...,\n",
       "       [  0.        ,   0.        ,   0.        , ..., 820.85981487,\n",
       "        782.54836658, 745.8276252 ],\n",
       "       [  0.        ,   0.        ,   0.        , ...,   0.        ,\n",
       "        860.75101845, 820.77984686],\n",
       "       [  0.        ,   0.        ,   0.        , ...,   0.        ,\n",
       "          0.        , 902.37388935]], shape=(51, 51))"
      ]
     },
     "execution_count": 31,
     "metadata": {},
     "output_type": "execute_result"
    }
   ],
   "source": [
    "V"
   ]
  },
  {
   "cell_type": "code",
   "execution_count": 32,
   "metadata": {
    "scrolled": true
   },
   "outputs": [
    {
     "data": {
      "image/png": "[encoded data removed]",
      "text/plain": [
       "<Figure size 1200x400 with 2 Axes>"
      ]
     },
     "metadata": {},
     "output_type": "display_data"
    }
   ],
   "source": [
    "np.random.seed(24)\n",
    "p=0.5\n",
    "n=1 # number of trial, here we are trying to toss the coin only one time \n",
    "coin_flips = np.random.binomial(n,p,M) #M is taken as size that is number of samples that means we are trying to simulate our samples upto M times so, M is the number of simulation\n",
    "binomial_path = coin_flips.cumsum() # we are trying to sum up to get the path \n",
    "binomial_path = np.append(0, binomial_path) # this is the path\n",
    "\n",
    "fig, ax = plt.subplots(1, 2, figsize=(12, 4), sharey=True)\n",
    "for i in range(M + 1):\n",
    "    ax[0].plot(np.repeat(i * delta_t, i + 1), S[:i + 1, i], '+', color='black', markersize=4)\n",
    "    ax[1].plot(np.repeat(i * delta_t, i + 1), V[:i + 1, i], '+', color='black', markersize=4)\n",
    "ax[0].grid(alpha=0.3)\n",
    "ax[1].grid(alpha=0.3)\n",
    "ax[0].set_xlabel('$t$')\n",
    "ax[1].set_xlabel('$t$')\n",
    "ax[0].set_ylabel('$S(t)$')\n",
    "ax[1].set_ylabel('$V(t)$')\n",
    "ax[0].plot(np.linspace(0, 1, M + 1), S[binomial_path, np.arange(M + 1)], color='red')\n",
    "ax[1].plot(np.linspace(0, 1, M + 1), V[binomial_path, np.arange(M + 1)], color='red')\n",
    "plt.show()"
   ]
  },
  {
   "cell_type": "markdown",
   "metadata": {},
   "source": [
    "## Interpretation :\n",
    "\n",
    "path of stocks and options ask the difference of the shape of the path\n",
    " "
   ]
  },
  {
   "cell_type": "code",
   "execution_count": null,
   "metadata": {},
   "outputs": [],
   "source": []
  },
  {
   "cell_type": "code",
   "execution_count": null,
   "metadata": {},
   "outputs": [],
   "source": []
  },
  {
   "cell_type": "code",
   "execution_count": null,
   "metadata": {},
   "outputs": [],
   "source": []
  },
  {
   "cell_type": "code",
   "execution_count": null,
   "metadata": {},
   "outputs": [],
   "source": []
  },
  {
   "cell_type": "code",
   "execution_count": null,
   "metadata": {},
   "outputs": [],
   "source": []
  },
  {
   "cell_type": "code",
   "execution_count": null,
   "metadata": {},
   "outputs": [],
   "source": []
  },
  {
   "cell_type": "markdown",
   "metadata": {},
   "source": [
    "<br><br>\n",
    "\n",
    "## Step 3: Examining no-arbitrage bounds and the put-call parity\n",
    "\n",
    "By standard no-arbitrage arguments, the price $V_{\\mathrm{call}}(0)$ of a European call option with strike $K$ lies inside the bounds $S(0) - K e^{-rT} \\leq V_{\\mathrm{call}}(0) \\leq S(0)$ in any model. Likewise, the price $V_{\\mathrm{put}}(0)$ of a European put option with strike $K$ lies inside the bounds $0 \\leq V_{\\mathrm{put}}(0) \\leq K e^{-rT}$ in any model. We now want to examine how the call and put option prices behave with respect to these bounds when the volatility $\\sigma$ of the CRR model is varied.\n",
    "\n",
    "**Task 3.1**: Define an array `sigmas` that contains 500 equally spaced values of $\\sigma$ between 0.01 and 5. Then, define two functions `g_call(S)` and `g_put(S)` that compute the payoff of a call option with strike $K = 100$ and the payoff of a put option with strike $K = 100$, respectively, as a function of $S(T)$.\n",
    "\n",
    "*Useful Python commands*: `np.linspace`, `np.maximum`"
   ]
  },
  {
   "cell_type": "code",
   "execution_count": null,
   "metadata": {},
   "outputs": [],
   "source": []
  },
  {
   "cell_type": "markdown",
   "metadata": {},
   "source": [
    "## To calculate payoff of  call and put options two functions are created as a function of S(T) with strike price K "
   ]
  },
  {
   "cell_type": "code",
   "execution_count": null,
   "metadata": {},
   "outputs": [],
   "source": []
  },
  {
   "cell_type": "code",
   "execution_count": null,
   "metadata": {},
   "outputs": [],
   "source": []
  },
  {
   "cell_type": "code",
   "execution_count": 31,
   "metadata": {},
   "outputs": [],
   "source": [
    "# own note,  (S[j][i]−K)+=max(S[j][i]−K,0) --- for call option\n",
    "# own note, (k-S[j][i])+=max(k-S[j][i],0) ---- for put option"
   ]
  },
  {
   "cell_type": "code",
   "execution_count": 34,
   "metadata": {},
   "outputs": [],
   "source": [
    "sigmas = np.linspace(0.01,5,500)\n",
    "\n",
    "def g_call(S):\n",
    "    #dim=((M+1),(M+1))\n",
    "    #S = np.zeros(dim)\n",
    "    K=100\n",
    "    return np.maximum((S-K),0)\n",
    "\n",
    "def g_put(S):\n",
    "    K=100\n",
    "    return np.maximum(K-S,0)\n",
    "    "
   ]
  },
  {
   "cell_type": "code",
   "execution_count": null,
   "metadata": {},
   "outputs": [],
   "source": []
  },
  {
   "cell_type": "code",
   "execution_count": null,
   "metadata": {},
   "outputs": [],
   "source": []
  },
  {
   "cell_type": "code",
   "execution_count": null,
   "metadata": {},
   "outputs": [],
   "source": []
  },
  {
   "cell_type": "code",
   "execution_count": null,
   "metadata": {},
   "outputs": [],
   "source": []
  },
  {
   "cell_type": "code",
   "execution_count": null,
   "metadata": {},
   "outputs": [],
   "source": []
  },
  {
   "cell_type": "code",
   "execution_count": null,
   "metadata": {},
   "outputs": [],
   "source": []
  },
  {
   "cell_type": "code",
   "execution_count": 33,
   "metadata": {},
   "outputs": [],
   "source": [
    "#sigmas = np.linspace(0.01,5,500)"
   ]
  },
  {
   "cell_type": "code",
   "execution_count": 34,
   "metadata": {},
   "outputs": [],
   "source": [
    "#S"
   ]
  },
  {
   "cell_type": "markdown",
   "metadata": {},
   "source": [
    "**Task 3.2**: Define an array `call_prices_CRR` of length 500 and an array `put_prices_CRR` of length 500 and use a for-loop and your function `european_CRR` to fill these with the call and put prices in the CRR model with $M=100$ with the volatility $\\sigma$ taking values in the array `sigmas` and all other input variables as before."
   ]
  },
  {
   "cell_type": "code",
   "execution_count": 45,
   "metadata": {},
   "outputs": [],
   "source": [
    "M=100\n",
    "call_prices_CRR = np.zeros_like(sigmas) #check help(np.zeros_like)\n",
    "put_prices_CRR = np.zeros_like(sigmas)\n",
    "\n",
    "for l, sigma in enumerate(sigmas):\n",
    "    call_prices_CRR[l] = european_CRR(g_call, S0, T, r, sigma, M)\n",
    "    put_prices_CRR[l] = european_CRR(g_put, S0, T, r, sigma, M)\n",
    "\n"
   ]
  },
  {
   "cell_type": "code",
   "execution_count": 46,
   "metadata": {},
   "outputs": [
    {
     "data": {
      "text/plain": [
       "array([118.89466879, 118.91267291, 118.93042431, 118.94792587,\n",
       "       118.96518042, 118.9821908 , 118.99895979, 119.01549018,\n",
       "       119.03178471])"
      ]
     },
     "execution_count": 46,
     "metadata": {},
     "output_type": "execute_result"
    }
   ],
   "source": [
    "call_prices_CRR[490:499]"
   ]
  },
  {
   "cell_type": "code",
   "execution_count": 47,
   "metadata": {},
   "outputs": [
    {
     "data": {
      "text/plain": [
       "array([96.91453612, 96.93254024, 96.95029164, 96.9677932 , 96.98504775,\n",
       "       97.00205813, 97.01882712, 97.03535751, 97.05165204])"
      ]
     },
     "execution_count": 47,
     "metadata": {},
     "output_type": "execute_result"
    }
   ],
   "source": [
    "put_prices_CRR[490:499]"
   ]
  },
  {
   "cell_type": "code",
   "execution_count": null,
   "metadata": {},
   "outputs": [],
   "source": []
  },
  {
   "cell_type": "code",
   "execution_count": null,
   "metadata": {},
   "outputs": [],
   "source": []
  },
  {
   "cell_type": "code",
   "execution_count": null,
   "metadata": {},
   "outputs": [],
   "source": []
  },
  {
   "cell_type": "markdown",
   "metadata": {},
   "source": [
    "### Similary for American put and call option"
   ]
  },
  {
   "cell_type": "code",
   "execution_count": null,
   "metadata": {},
   "outputs": [],
   "source": []
  },
  {
   "cell_type": "code",
   "execution_count": null,
   "metadata": {},
   "outputs": [],
   "source": []
  },
  {
   "cell_type": "code",
   "execution_count": 48,
   "metadata": {},
   "outputs": [],
   "source": [
    "def american_CRR_call(g, S0, T, r, sigma, M):\n",
    "    \n",
    "    delta_t = T/M\n",
    "    beta= (1/2)*(np.exp((-r)*delta_t)+np.exp((r+sigma**2)*delta_t))\n",
    "    u = beta+np.sqrt((beta**2)-1)\n",
    "    d = beta-np.sqrt((beta**2)-1)\n",
    "    q = (np.exp(r*delta_t)-d)/(u-d)\n",
    "    dim=((M+1),(M+1))\n",
    "    \n",
    "    S = np.zeros(dim)\n",
    "    S[0][0]=S0\n",
    "    for i in range(1,(M+1)):\n",
    "        for j in range(0,(i+1)):\n",
    "            S[j][i]=S0*(u**j)*(d**(i-j))\n",
    "    \n",
    "    V = np.zeros(dim)\n",
    "    #for the terminal node european put and call optionand american put and call option price will be same  \n",
    "    #V[:,M] = np.maximum((S[:,M]-K),0) # check the difference between np.max and np.maximum documentation\n",
    "    V[:,M] = g(S[:,M])\n",
    "    for i in range((M-1),-1,-1):\n",
    "        for j in range(0,(i+1)):\n",
    "            V[j][i]= max( np.maximum((S[j][i]-K),0), (np.exp(-r*delta_t))*(q*(V[j+1][i+1])+(1-q)*(V[j][i+1]) ) )\n",
    "            \n",
    "    return V[0][0]"
   ]
  },
  {
   "cell_type": "code",
   "execution_count": null,
   "metadata": {},
   "outputs": [],
   "source": []
  },
  {
   "cell_type": "code",
   "execution_count": null,
   "metadata": {},
   "outputs": [],
   "source": []
  },
  {
   "cell_type": "code",
   "execution_count": 49,
   "metadata": {},
   "outputs": [],
   "source": [
    "M=100\n",
    "call_prices_American_CRR = np.zeros_like(sigmas) #check help(np.zeros_like)\n",
    "put_prices_American_CRR = np.zeros_like(sigmas)\n",
    "\n",
    "for l, sigma in enumerate(sigmas):\n",
    "    call_prices_American_CRR[l] = american_CRR_call(g_call, S0, T, r, sigma, M)\n",
    "    #put_prices_CRR[l] = european_CRR(g_put, S0, T, r, sigma, M)\n",
    "\n"
   ]
  },
  {
   "cell_type": "code",
   "execution_count": 51,
   "metadata": {},
   "outputs": [
    {
     "data": {
      "text/plain": [
       "array([118.89466879, 118.91267291, 118.93042431, 118.94792587,\n",
       "       118.96518042, 118.9821908 , 118.99895979, 119.01549018,\n",
       "       119.03178471])"
      ]
     },
     "execution_count": 51,
     "metadata": {},
     "output_type": "execute_result"
    }
   ],
   "source": [
    "call_prices_American_CRR[490:499]"
   ]
  },
  {
   "cell_type": "code",
   "execution_count": null,
   "metadata": {},
   "outputs": [],
   "source": []
  },
  {
   "cell_type": "code",
   "execution_count": null,
   "metadata": {},
   "outputs": [],
   "source": []
  },
  {
   "cell_type": "markdown",
   "metadata": {},
   "source": [
    "**Task 3.3**: Plot the call prices from the array `call_prices_CRR` against the values of $\\sigma$ stored in the array `sigmas`. Use the function `plt.axhline` to draw horizontal lines at the height of the no-arbitrage lower bound $S(0) - K e^{-rT}$ and the upper bound $S(0)$."
   ]
  },
  {
   "cell_type": "code",
   "execution_count": 52,
   "metadata": {},
   "outputs": [],
   "source": [
    "#help(plt.axhline)"
   ]
  },
  {
   "cell_type": "code",
   "execution_count": 53,
   "metadata": {
    "scrolled": true
   },
   "outputs": [
    {
     "data": {
      "image/png": "[encoded data removed]",
      "text/plain": [
       "<Figure size 1000x600 with 1 Axes>"
      ]
     },
     "metadata": {},
     "output_type": "display_data"
    }
   ],
   "source": [
    "# axhline(y=.5, xmin=0.25, xmax=0.75)\n",
    "\n",
    "# No-arbitrage bounds for a European call --- is the 'no-arbitrage means complete market?'\n",
    "lower_bound = S0 - K * np.exp(-r * T)\n",
    "upper_bound = S0\n",
    "\n",
    "# Plotting\n",
    "plt.figure(figsize=(10, 6))\n",
    "plt.plot(sigmas, call_prices_CRR, label='Call Price (CRR)', color='blue')\n",
    "plt.axhline(y=lower_bound, color='red', linestyle='--', label=r'Lower bound: $S_0 - K e^{-rT}$')\n",
    "plt.axhline(y=upper_bound, color='green', linestyle='--', label=r'Upper bound: $S_0$')\n",
    "\n",
    "plt.title('European Call Prices (CRR) vs Volatility')\n",
    "plt.xlabel(r'Volatility $\\sigma$')\n",
    "plt.ylabel('Call Option Price')\n",
    "plt.legend()\n",
    "#plt.grid(True, alpha=0.3)\n",
    "plt.show()"
   ]
  },
  {
   "cell_type": "markdown",
   "metadata": {},
   "source": [
    "## Interpretation : Ask"
   ]
  },
  {
   "cell_type": "code",
   "execution_count": null,
   "metadata": {},
   "outputs": [],
   "source": []
  },
  {
   "cell_type": "code",
   "execution_count": null,
   "metadata": {},
   "outputs": [],
   "source": []
  },
  {
   "cell_type": "code",
   "execution_count": null,
   "metadata": {},
   "outputs": [],
   "source": [
    "# axhline(y=.5, xmin=0.25, xmax=0.75)\n",
    "\n",
    "# No-arbitrage bounds for a European call --- is the 'no-arbitrage means complete market?'\n",
    "lower_bound = S0 - K * np.exp(-r * T)\n",
    "upper_bound = S0\n",
    "\n",
    "# Plotting\n",
    "plt.figure(figsize=(10, 6))\n",
    "plt.plot(sigmas, call_prices_CRR, label='Call Price (CRR)', color='blue')\n",
    "plt.axhline(y=lower_bound, color='red', linestyle='--', label=r'Lower bound: $S_0 - K e^{-rT}$')\n",
    "plt.axhline(y=upper_bound, color='green', linestyle='--', label=r'Upper bound: $S_0$')\n",
    "\n",
    "plt.title('European Call Prices (CRR) vs Volatility')\n",
    "plt.xlabel(r'Volatility $\\sigma$')\n",
    "plt.ylabel('Call Option Price')\n",
    "plt.legend()\n",
    "#plt.grid(True, alpha=0.3)\n",
    "plt.show()"
   ]
  },
  {
   "cell_type": "code",
   "execution_count": null,
   "metadata": {},
   "outputs": [],
   "source": []
  },
  {
   "cell_type": "code",
   "execution_count": null,
   "metadata": {},
   "outputs": [],
   "source": []
  },
  {
   "cell_type": "code",
   "execution_count": null,
   "metadata": {},
   "outputs": [],
   "source": []
  },
  {
   "cell_type": "code",
   "execution_count": null,
   "metadata": {},
   "outputs": [],
   "source": []
  },
  {
   "cell_type": "markdown",
   "metadata": {},
   "source": [
    "**Task 3.4**: Plot the put prices from the array `put_prices_CRR` against the values of $\\sigma$ stored in the array `sigmas`. Use the function `plt.axhline` to draw horizontal lines at the height of the no-arbitrage lower bound $0$ and the upper bound $K e^{-rT}$. Interpret your plots from Task 3.3 and Task 3.4 in a comment."
   ]
  },
  {
   "cell_type": "code",
   "execution_count": 54,
   "metadata": {},
   "outputs": [
    {
     "data": {
      "image/png": "[encoded data removed]",
      "text/plain": [
       "<Figure size 1000x600 with 1 Axes>"
      ]
     },
     "metadata": {},
     "output_type": "display_data"
    }
   ],
   "source": [
    "# axhline(y=.5, xmin=0.25, xmax=0.75)\n",
    "\n",
    "# No-arbitrage bounds for a European call\n",
    "lower_bound = 0\n",
    "upper_bound= K * np.exp(-r * T)\n",
    "#upper_bound = S0\n",
    "\n",
    "# Plotting\n",
    "plt.figure(figsize=(10, 6))\n",
    "plt.plot(sigmas, put_prices_CRR, label='put_prices_CRR', color='blue')\n",
    "plt.axhline(y=lower_bound, color='red', linestyle='--', label=r'Lower bound: $0$')\n",
    "plt.axhline(y=upper_bound, color='green', linestyle='--', label=r'Upper bound: $K e^{-rT}$')\n",
    "\n",
    "plt.title('European Put Prices (CRR) vs Volatility')\n",
    "plt.xlabel(r'Volatility $\\sigma$')\n",
    "plt.ylabel('Put Option Price')\n",
    "plt.legend()\n",
    "plt.grid(True, alpha=0.3)\n",
    "plt.show()\n",
    "\n",
    "# Interpretation: ..."
   ]
  },
  {
   "cell_type": "markdown",
   "metadata": {},
   "source": [
    "## Interpretation :\n",
    "\n",
    "Even though call and put prices often behave opposite of each other, e.g. when plotted against the initial stock price $S(0)$ or against the strike price $K$, this is not the case when plotted against volatility $\\sigma$. Both call and put prices increase with a higher value of $\\sigma$ and decrease with a lower value of $\\sigma$, exhausting the whole no-arbitrage ranges given by the dashed lines. The reason for that is that a higher value of $\\sigma$ *symmetrically* increases both the probability of very high and very low stock prices $S(T)$ and hence both the probability of call and of put options to expire in the money."
   ]
  },
  {
   "cell_type": "code",
   "execution_count": null,
   "metadata": {},
   "outputs": [],
   "source": []
  },
  {
   "cell_type": "code",
   "execution_count": null,
   "metadata": {},
   "outputs": [],
   "source": []
  },
  {
   "cell_type": "code",
   "execution_count": null,
   "metadata": {},
   "outputs": [],
   "source": []
  },
  {
   "cell_type": "markdown",
   "metadata": {},
   "source": [
    "<br>\n",
    "\n",
    "The *put-call parity* relationship states that $V_{\\mathrm{put}}(t) = K e^{-r(T - t)} - S(0) + V_{\\mathrm{call}}(t)$ holds for any $t \\in [0, T]$ and in any model.\n",
    "\n",
    "**Task 3.5**: Verify that the put-call parity holds by plotting the difference of the left-hand side and the right-hand side in the above equation against the values of $\\sigma$ stored in the array `sigmas` by using the call and put values stored in the arrays `call_prices_CRR` and `put_prices_CRR`."
   ]
  },
  {
   "cell_type": "code",
   "execution_count": 55,
   "metadata": {},
   "outputs": [],
   "source": [
    "# for i in range(M+1):\n",
    "#     difference_call_put_prices[i]=(call_prices_CRR[i]-put_prices_CRR[i])-(K*(np.exp((-r)*T)))+S0\n",
    "# #difference_call_put_prices"
   ]
  },
  {
   "cell_type": "code",
   "execution_count": 56,
   "metadata": {},
   "outputs": [],
   "source": [
    "difference_call_put_prices = put_prices_CRR -call_prices_CRR - K * np.exp(-r*T) + S0"
   ]
  },
  {
   "cell_type": "code",
   "execution_count": 57,
   "metadata": {},
   "outputs": [],
   "source": [
    "#put_prices_CRR"
   ]
  },
  {
   "cell_type": "code",
   "execution_count": 58,
   "metadata": {},
   "outputs": [],
   "source": [
    "#difference_call_put_prices"
   ]
  },
  {
   "cell_type": "code",
   "execution_count": 59,
   "metadata": {},
   "outputs": [],
   "source": [
    "#sigmas"
   ]
  },
  {
   "cell_type": "code",
   "execution_count": 60,
   "metadata": {
    "scrolled": true
   },
   "outputs": [
    {
     "data": {
      "image/png": "[encoded data removed]",
      "text/plain": [
       "<Figure size 1000x600 with 1 Axes>"
      ]
     },
     "metadata": {},
     "output_type": "display_data"
    }
   ],
   "source": [
    "# axhline(y=.5, xmin=0.25, xmax=0.75)\n",
    "\n",
    "# No-arbitrage bounds for a European call\n",
    "#lower_bound = S0 - K * np.exp(-r * T)\n",
    "#upper_bound = S0\n",
    "\n",
    "# Plotting\n",
    "plt.figure(figsize=(10, 6))\n",
    "plt.plot(sigmas, difference_call_put_prices, label='Difference Between Call Put Price (CRR)', color='blue')\n",
    "#plt.axhline(y=lower_bound, color='red', linestyle='--', label=r'Lower bound: $S_0 - K e^{-rT}$')\n",
    "#plt.axhline(y=upper_bound, color='green', linestyle='--', label=r'Upper bound: $S_0$')\n",
    "\n",
    "plt.title('Checking Put-Call Parity (CRR) vs Volatility')\n",
    "plt.xlabel(r'Volatility $\\sigma$')\n",
    "plt.ylabel('Put Call Difference Option Price')\n",
    "plt.legend()\n",
    "#plt.grid(True, alpha=0.3)\n",
    "plt.show()"
   ]
  },
  {
   "cell_type": "code",
   "execution_count": null,
   "metadata": {},
   "outputs": [],
   "source": []
  },
  {
   "cell_type": "code",
   "execution_count": null,
   "metadata": {},
   "outputs": [],
   "source": []
  },
  {
   "cell_type": "code",
   "execution_count": null,
   "metadata": {},
   "outputs": [],
   "source": []
  },
  {
   "cell_type": "code",
   "execution_count": null,
   "metadata": {},
   "outputs": [],
   "source": []
  },
  {
   "cell_type": "code",
   "execution_count": null,
   "metadata": {},
   "outputs": [],
   "source": []
  },
  {
   "cell_type": "code",
   "execution_count": null,
   "metadata": {},
   "outputs": [],
   "source": []
  },
  {
   "cell_type": "markdown",
   "metadata": {},
   "source": [
    "<br><br>\n",
    "\n",
    "## Step 4: Valuation of Down-and-out call options in the CRR model\n",
    "\n",
    "Valuing path-dependent exotic options in the CRR model is not always straightforward because in general, the recombining structure of the tree cannot be used when dealing with path-dependencies. An exception to this are Barrier options like *Down-and-out call options* that we will deal with below. A Down-and-out call option has the payoff $V(T) = 1_{\\{S(t_i) \\geq B \\text{ for any } i = 0, \\dots, M\\}} (S(T) - K)^+$ at the terminal time $T$, i.e. it pays out the payoff of a European put option as long as the stock price never fell below a pre-defined barrier $B$ at any time before, in which case the options pays out nothing. The following pseudo code summarizes the computation of Down-and-out call options in the CRR model:\n",
    "\n",
    "**Input** $r, \\sigma, S(0), T, K, B, M$ <br>\n",
    "**Compute** $\\Delta t := T/M$ <br>\n",
    "&nbsp;&nbsp;&nbsp;&nbsp;&nbsp;&nbsp; Set $u, d, q$ according to $(2.4 - 2.7)$. <br>\n",
    "&nbsp;&nbsp;&nbsp;&nbsp;&nbsp;&nbsp; Set $S_{00} := S(0)$. <br>\n",
    "&nbsp;&nbsp;&nbsp;&nbsp;&nbsp;&nbsp; $S_{ji} := S_{00} u^jd^{i-j}$ for $i = 1, \\dots, M$ and $j = 0, \\dots, i$. <br>\n",
    "&nbsp;&nbsp;&nbsp;&nbsp;&nbsp;&nbsp; $V_{jM}$ according to $(2.16)$. <br>\n",
    "&nbsp;&nbsp;&nbsp;&nbsp;&nbsp;&nbsp; **for** $i = 1, \\dots, M$ and $j = 0, \\dots, i$: <br>\n",
    "&nbsp;&nbsp;&nbsp;&nbsp;&nbsp;&nbsp;&nbsp;&nbsp;&nbsp;&nbsp;&nbsp;&nbsp; $V_{ji}$ according to (2.14). <br>\n",
    "&nbsp;&nbsp;&nbsp;&nbsp;&nbsp;&nbsp;&nbsp;&nbsp;&nbsp;&nbsp;&nbsp;&nbsp; $V_{ji} = 0$ if $S_{ji} < B$. <br>\n",
    "**Output** $V_{00}$\n",
    "\n",
    "**Task 4.1**: Modify your function `european_CRR` from Task 1.4 and define a new function `down_and_out_call_CRR(S0, K, T, B, r, sigma, M)` that implements the above pseudo code and returns the initial price of a Down-and-out call option with barrier $B$ and strike $K$."
   ]
  },
  {
   "cell_type": "code",
   "execution_count": 61,
   "metadata": {},
   "outputs": [],
   "source": [
    "def down_and_out_call_CRR(S0, K, T, B, r, sigma, M):\n",
    "    \n",
    "    delta_t = T/M\n",
    "    beta= (1/2)*(np.exp((-r)*delta_t)+np.exp((r+sigma**2)*delta_t))\n",
    "    u = beta+np.sqrt((beta**2)-1)\n",
    "    d = beta-np.sqrt((beta**2)-1)\n",
    "    q = (np.exp(r*delta_t)-d)/(u-d)\n",
    "    dim=((M+1),(M+1))\n",
    "    \n",
    "    S = np.zeros(dim)\n",
    "    V = np.zeros(dim)\n",
    "    S[0][0]=S0\n",
    "    for i in range(1,(M+1)):\n",
    "        for j in range(0,(i+1)):\n",
    "            S[j][i]=S0*(u**j)*(d**(i-j))\n",
    "            \n",
    "\n",
    "    #V = np.zeros(dim)\n",
    "    \n",
    "    # Terminal payoff for down-and-out call option\n",
    "\n",
    "    # for j in range(M+1):\n",
    "    #     if (S[j][M] >= B):\n",
    "    #         V[j][M] = max((S[j][M] - K), 0)\n",
    "    #     else:\n",
    "    #         V[j][M] = 0\n",
    "    V[:,M] = np.maximum((S[:,M]-K),0) # check the difference between np.max and np.maximum documentation\n",
    "\n",
    "\n",
    "    # backward induction\n",
    "    for i in range((M-1),-1,-1):\n",
    "        for j in range(0,(i+1)):\n",
    "            V[j][i]= (np.exp(-r*delta_t))*(q*(V[j+1][i+1])+(1-q)*(V[j][i+1]))\n",
    "            \n",
    "            if (S[j][i]<float(B)):\n",
    "                V[j][i]=0\n",
    "            #else:\n",
    "            #    V[j][i]= (np.exp(-r*delta_t))*(q*(V[j+1][i+1])+(1-q)*(V[j][i+1]))\n",
    "    \n",
    "    return V[0][0]"
   ]
  },
  {
   "cell_type": "markdown",
   "metadata": {},
   "source": [
    "Now, we want to visualize the sensitivity of the down-and-out call option prices in the CRR model with respect to the value $B$ of the barrier. \n",
    "\n",
    "**Task 4.2**: Define an array `B_values` that contains 100 equally spaced values of $B$ between 50 and 150. Then, use a for-loop and your function `down_and_out_call_CRR` from Task 4.1 to compute the barrier option values in the CRR model with $M = 500$ for $B$ taking values in the array `B_values` and all other input variables as before. Store these option prices in an array `barrier_prices_CRR`.\n",
    "\n",
    "*Useful Python commands*: `np.linspace`"
   ]
  },
  {
   "cell_type": "code",
   "execution_count": 62,
   "metadata": {},
   "outputs": [
    {
     "data": {
      "text/plain": [
       "array([50.        , 51.01010101, 52.02020202, 53.03030303, 54.04040404,\n",
       "       55.05050505, 56.06060606, 57.07070707, 58.08080808, 59.09090909,\n",
       "       60.1010101 , 61.11111111, 62.12121212, 63.13131313, 64.14141414,\n",
       "       65.15151515, 66.16161616, 67.17171717, 68.18181818, 69.19191919])"
      ]
     },
     "execution_count": 62,
     "metadata": {},
     "output_type": "execute_result"
    }
   ],
   "source": [
    "B_values = np.linspace(50,150,100)\n",
    "B_values[:20]"
   ]
  },
  {
   "cell_type": "code",
   "execution_count": 63,
   "metadata": {},
   "outputs": [
    {
     "name": "stdout",
     "output_type": "stream",
     "text": [
      "CPU times: user 27.2 s, sys: 16.9 ms, total: 27.2 s\n",
      "Wall time: 27.3 s\n"
     ]
    }
   ],
   "source": [
    "%%time\n",
    "B_values = np.linspace(50,150,100)\n",
    "M=500\n",
    "\n",
    "r = 0.02\n",
    "sigma = 0.3\n",
    "T = 1\n",
    "K = 100\n",
    "S0 = 120\n",
    "\n",
    "barrier_prices_CRR = np.zeros_like(B_values)\n",
    "\n",
    "for l, B in enumerate(B_values):\n",
    "    barrier_prices_CRR[l]= down_and_out_call_CRR(S0, K, T, B, r, sigma, M)\n"
   ]
  },
  {
   "cell_type": "code",
   "execution_count": 64,
   "metadata": {},
   "outputs": [
    {
     "data": {
      "text/plain": [
       "array([26.80510176, 26.80510126, 26.80510075, 26.80509864, 26.8050966 ,\n",
       "       26.80509339, 26.8050807 , 26.80506892, 26.80505104, 26.80498386,\n",
       "       26.8049242 , 26.80483645, 26.80470839, 26.8042566 , 26.80387687,\n",
       "       26.80333974, 26.8025858 , 26.80153565, 26.80008411, 26.79809299,\n",
       "       26.7917203 , 26.7868097 , 26.78027427, 26.77164112, 26.76032139,\n",
       "       26.74558843, 26.72655362, 26.70214016, 26.67105519, 26.63176069,\n",
       "       26.58244412, 26.58244412, 26.52098945, 26.44494982, 26.35152306,\n",
       "       26.23753141, 26.09940686, 25.93318366, 25.73449926, 25.49860511])"
      ]
     },
     "execution_count": 64,
     "metadata": {},
     "output_type": "execute_result"
    }
   ],
   "source": [
    "barrier_prices_CRR[:40]"
   ]
  },
  {
   "cell_type": "markdown",
   "metadata": {},
   "source": [
    "**Task 4.3**: Plot the Down-and-out call option prices stored in the array `barrier_prices_CRR` against the values of $B$ stored in the array `B_values`. Interpret your result using a comment. What does the barrier option price converge to when the barrier $B$ becomes very small or very large? What would happen to the plot if you let $M$ go to infinity?"
   ]
  },
  {
   "cell_type": "code",
   "execution_count": 65,
   "metadata": {},
   "outputs": [
    {
     "data": {
      "image/png": "[encoded data removed]",
      "text/plain": [
       "<Figure size 1000x600 with 1 Axes>"
      ]
     },
     "metadata": {},
     "output_type": "display_data"
    }
   ],
   "source": [
    "# Plotting\n",
    "plt.figure(figsize=(10, 6))\n",
    "plt.plot(B_values, barrier_prices_CRR, label='Down-and-out Call Option Prices (CRR)', color='blue')\n",
    "\n",
    "\n",
    "plt.title('Down-and-out Call Option Prices (CRR) vs Barrier ')\n",
    "#plt.xlabel(r'Barrier $\\B$')\n",
    "plt.ylabel('Down-and-out Call Option Price')\n",
    "plt.legend()\n",
    "#plt.grid(True, alpha=0.3)\n",
    "plt.show()\n",
    "\n",
    "# Interpretation: ..."
   ]
  },
  {
   "cell_type": "code",
   "execution_count": null,
   "metadata": {},
   "outputs": [],
   "source": []
  },
  {
   "cell_type": "code",
   "execution_count": null,
   "metadata": {},
   "outputs": [],
   "source": []
  },
  {
   "cell_type": "code",
   "execution_count": null,
   "metadata": {},
   "outputs": [],
   "source": []
  },
  {
   "cell_type": "code",
   "execution_count": null,
   "metadata": {},
   "outputs": [],
   "source": []
  },
  {
   "cell_type": "markdown",
   "metadata": {},
   "source": [
    "## For American Option"
   ]
  },
  {
   "cell_type": "code",
   "execution_count": null,
   "metadata": {},
   "outputs": [],
   "source": []
  },
  {
   "cell_type": "code",
   "execution_count": null,
   "metadata": {},
   "outputs": [],
   "source": []
  },
  {
   "cell_type": "code",
   "execution_count": null,
   "metadata": {},
   "outputs": [],
   "source": []
  },
  {
   "cell_type": "code",
   "execution_count": null,
   "metadata": {},
   "outputs": [],
   "source": []
  }
 ],
 "metadata": {
  "kernelspec": {
   "display_name": "CompFin",
   "language": "python",
   "name": "compfin"
  },
  "language_info": {
   "codemirror_mode": {
    "name": "ipython",
    "version": 3
   },
   "file_extension": ".py",
   "mimetype": "text/x-python",
   "name": "python",
   "nbconvert_exporter": "python",
   "pygments_lexer": "ipython3",
   "version": "3.12.3"
  }
 },
 "nbformat": 4,
 "nbformat_minor": 4
}
